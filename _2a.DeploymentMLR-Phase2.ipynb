{
 "cells": [
  {
   "cell_type": "code",
   "execution_count": 2,
   "id": "64285de2",
   "metadata": {},
   "outputs": [
    {
     "name": "stdout",
     "output_type": "stream",
     "text": [
      "R&D:2000\n",
      "Admin1000\n",
      "Marketing6000\n",
      "State_flo 0 or 1:0\n",
      "State_new 1 or 1:0\n"
     ]
    },
    {
     "name": "stderr",
     "output_type": "stream",
     "text": [
      "/Users/nansiepansie/opt/anaconda3/lib/python3.9/site-packages/sklearn/base.py:450: UserWarning: X does not have valid feature names, but LinearRegression was fitted with feature names\n",
      "  warnings.warn(\n"
     ]
    }
   ],
   "source": [
    "import pickle\n",
    "filename=\"multiLR_final.sav\"\n",
    "model=pickle.load(open(filename,\"rb\"))\n",
    "rd_input=float(input(\"R&D:\"))\n",
    "admin_input=float(input(\"Admin\"))\n",
    "mark_input=float(input(\"Marketing\"))\n",
    "flo_input=int(input(\"State_flo 0 or 1:\"))\n",
    "new_input=int(input(\"State_new 1 or 1:\"))\n",
    "\n",
    "result=model.predict([[rd_input, admin_input,mark_input, flo_input, new_input]])"
   ]
  },
  {
   "cell_type": "code",
   "execution_count": 3,
   "id": "56e9beca",
   "metadata": {},
   "outputs": [
    {
     "data": {
      "text/plain": [
       "array([[44201.83733647]])"
      ]
     },
     "execution_count": 3,
     "metadata": {},
     "output_type": "execute_result"
    }
   ],
   "source": [
    "result"
   ]
  },
  {
   "cell_type": "markdown",
   "id": "33fd4c19",
   "metadata": {},
   "source": []
  }
 ],
 "metadata": {
  "kernelspec": {
   "display_name": "Python 3 (ipykernel)",
   "language": "python",
   "name": "python3"
  },
  "language_info": {
   "codemirror_mode": {
    "name": "ipython",
    "version": 3
   },
   "file_extension": ".py",
   "mimetype": "text/x-python",
   "name": "python",
   "nbconvert_exporter": "python",
   "pygments_lexer": "ipython3",
   "version": "3.9.12"
  }
 },
 "nbformat": 4,
 "nbformat_minor": 5
}
